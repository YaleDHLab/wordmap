{
 "cells": [
  {
   "cell_type": "code",
   "execution_count": null,
   "metadata": {},
   "outputs": [],
   "source": [
    "import wordmap\n",
    "\n",
    "# creates a directory 'web' in our cwd with all web assets needed\n",
    "wordmap.prepare_web_assets()"
   ]
  },
  {
   "cell_type": "code",
   "execution_count": 1,
   "metadata": {},
   "outputs": [],
   "source": [
    "import numpy as np\n",
    "\n",
    "# Get positions from an obj file. For more obj files, check out e.g. turbosquid.com\n",
    "positions = []\n",
    "with open('bunny.obj') as f:\n",
    "  for i in f:\n",
    "    if i[0] == 'v':\n",
    "      _, x, y, z = i.split()\n",
    "      positions.append([float(x), float(y), float(z)])\n",
    "\n",
    "def rotate(X, theta, axis):\n",
    "  '''Rotate multidimensional array `X` `theta` degrees around axis `axis`'''\n",
    "  c, s = np.cos(theta), np.sin(theta)\n",
    "  if axis == 'x': return np.dot(X, np.array([\n",
    "    [1.,  0,  0],\n",
    "    [0 ,  c, -s],\n",
    "    [0 ,  s,  c]\n",
    "  ]))\n",
    "  elif axis == 'y': return np.dot(X, np.array([\n",
    "    [c,  0,  -s],\n",
    "    [0,  1,   0],\n",
    "    [s,  0,   c]\n",
    "  ]))\n",
    "  elif axis == 'z': return np.dot(X, np.array([\n",
    "    [c, -s,  0 ],\n",
    "    [s,  c,  0 ],\n",
    "    [0,  0,  1.],\n",
    "  ]))\n",
    "  \n",
    "# rotate the model\n",
    "positions = rotate(np.array(positions), -np.pi/2, 'x').tolist()\n",
    "      \n",
    "# Add words to the position data. Here we'll just add the same word to each vertex\n",
    "positions = [['carrot'] + i for i in positions]"
   ]
  },
  {
   "cell_type": "code",
   "execution_count": 2,
   "metadata": {},
   "outputs": [],
   "source": [
    "import json\n",
    "import os\n",
    "\n",
    "# write the web asset data to disk as json inside the web directory\n",
    "with open(os.path.join('web', 'wordmap-grid.json'), 'w') as out:\n",
    "  json.dump(positions, out)"
   ]
  }
 ],
 "metadata": {
  "kernelspec": {
   "display_name": "Python 3",
   "language": "python",
   "name": "python3"
  },
  "language_info": {
   "codemirror_mode": {
    "name": "ipython",
    "version": 3
   },
   "file_extension": ".py",
   "mimetype": "text/x-python",
   "name": "python",
   "nbconvert_exporter": "python",
   "pygments_lexer": "ipython3",
   "version": "3.5.3"
  }
 },
 "nbformat": 4,
 "nbformat_minor": 2
}
