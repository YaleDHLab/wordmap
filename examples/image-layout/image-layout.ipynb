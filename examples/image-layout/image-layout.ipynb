{
 "cells": [
  {
   "cell_type": "code",
   "execution_count": 1,
   "metadata": {},
   "outputs": [],
   "source": [
    "%load_ext autoreload\n",
    "%autoreload 2"
   ]
  },
  {
   "cell_type": "code",
   "execution_count": 2,
   "metadata": {},
   "outputs": [],
   "source": [
    "import sys, warnings\n",
    "[sys.path.append(i) for i in ['.', '../../']]\n",
    "warnings.simplefilter('ignore')"
   ]
  },
  {
   "cell_type": "code",
   "execution_count": 3,
   "metadata": {},
   "outputs": [
    {
     "name": "stderr",
     "output_type": "stream",
     "text": [
      "Using TensorFlow backend.\n",
      "/Users/doug/anaconda/envs/3.5/lib/python3.5/site-packages/sklearn/externals/joblib/__init__.py:15: DeprecationWarning: sklearn.externals.joblib is deprecated in 0.21 and will be removed in 0.23. Please import this functionality directly from joblib, which can be installed with: pip install joblib. If this warning is raised when loading pickled models, you may need to re-serialize those models with scikit-learn 0.21+.\n",
      "  warnings.warn(msg, category=DeprecationWarning)\n"
     ]
    },
    {
     "name": "stdout",
     "output_type": "stream",
     "text": [
      " * limiting input string set to length 100000\n",
      " * computing img layout 1 of 1\n",
      " * writing json assets\n"
     ]
    }
   ],
   "source": [
    "import wordmadp\n",
    "\n",
    "model = wordmap.Model({\n",
    "  'img_file': 'joyce.png', # svg paths converted to png files are ideal\n",
    "  'texts': ['ulysses.txt'], # list of texts to process\n",
    "  'layouts': ['img'], # list of desired layouts\n",
    "  'max_n': 100000, # number of words to include\n",
    "  'min_count': 1, # minimum number of times word must occur to be included in plot\n",
    "})"
   ]
  },
  {
   "cell_type": "code",
   "execution_count": 4,
   "metadata": {},
   "outputs": [
    {
     "name": "stdout",
     "output_type": "stream",
     "text": [
      " * serving assets from /Users/doug/Desktop/yale/webapps/wordmap/examples/image-layout/web\n"
     ]
    }
   ],
   "source": [
    "import threading, random\n",
    "\n",
    "# start server\n",
    "port = random.randint(2**10, 2**16)\n",
    "serve = lambda: wordmap.serve(port=port)\n",
    "threading.Thread(target=serve).start()"
   ]
  },
  {
   "cell_type": "code",
   "execution_count": 5,
   "metadata": {},
   "outputs": [
    {
     "data": {
      "text/html": [
       "\n",
       "        <iframe\n",
       "            width=\"1000\"\n",
       "            height=\"650\"\n",
       "            src=\"http://localhost:20726\"\n",
       "            frameborder=\"0\"\n",
       "            allowfullscreen\n",
       "        ></iframe>\n",
       "        "
      ],
      "text/plain": [
       "<IPython.lib.display.IFrame at 0x132b3a2e8>"
      ]
     },
     "execution_count": 5,
     "metadata": {},
     "output_type": "execute_result"
    },
    {
     "name": "stderr",
     "output_type": "stream",
     "text": [
      " * Running on http://0.0.0.0:20726/ (Press CTRL+C to quit)\n",
      "127.0.0.1 - - [27/Aug/2019 10:41:04] \"\u001b[37mGET / HTTP/1.1\u001b[0m\" 200 -\n",
      "127.0.0.1 - - [27/Aug/2019 10:41:04] \"\u001b[37mGET /assets/images/dhlab-mark.svg HTTP/1.1\u001b[0m\" 200 -\n",
      "127.0.0.1 - - [27/Aug/2019 10:41:04] \"\u001b[37mGET /assets/js/three.min.js HTTP/1.1\u001b[0m\" 200 -\n",
      "127.0.0.1 - - [27/Aug/2019 10:41:04] \"\u001b[37mGET /assets/js/trackball-controls.min.js HTTP/1.1\u001b[0m\" 200 -\n",
      "127.0.0.1 - - [27/Aug/2019 10:41:04] \"\u001b[37mGET /assets/js/tweenlite.min.js HTTP/1.1\u001b[0m\" 200 -\n",
      "127.0.0.1 - - [27/Aug/2019 10:41:04] \"\u001b[37mGET /assets/js/dat.gui.min.js HTTP/1.1\u001b[0m\" 200 -\n",
      "127.0.0.1 - - [27/Aug/2019 10:41:04] \"\u001b[37mGET /assets/js/wordmap.js HTTP/1.1\u001b[0m\" 200 -\n",
      "127.0.0.1 - - [27/Aug/2019 10:41:04] \"\u001b[37mGET /assets/js/stats.min.js HTTP/1.1\u001b[0m\" 200 -\n",
      "127.0.0.1 - - [27/Aug/2019 10:41:04] \"\u001b[37mGET / HTTP/1.1\u001b[0m\" 200 -\n",
      "127.0.0.1 - - [27/Aug/2019 10:41:04] \"\u001b[37mGET /assets/fonts/VT323.ttf HTTP/1.1\u001b[0m\" 200 -\n",
      "127.0.0.1 - - [27/Aug/2019 10:41:04] \"\u001b[37mGET /assets/fonts/Nanum.ttf HTTP/1.1\u001b[0m\" 200 -\n",
      "127.0.0.1 - - [27/Aug/2019 10:41:04] \"\u001b[37mGET /data/manifest.json HTTP/1.1\u001b[0m\" 200 -\n",
      "127.0.0.1 - - [27/Aug/2019 10:41:04] \"\u001b[37mGET /data/texts.json HTTP/1.1\u001b[0m\" 200 -\n",
      "127.0.0.1 - - [27/Aug/2019 10:41:04] \"\u001b[37mGET /assets/images/heightmap.jpg HTTP/1.1\u001b[0m\" 200 -\n",
      "127.0.0.1 - - [27/Aug/2019 10:41:04] \"\u001b[37mGET /data/layouts/img/img_file-joyce.png-n_clusters-7.json HTTP/1.1\u001b[0m\" 200 -\n",
      "127.0.0.1 - - [27/Aug/2019 10:41:05] \"\u001b[37mGET /favicon.ico HTTP/1.1\u001b[0m\" 200 -\n"
     ]
    }
   ],
   "source": [
    "from IPython.display import IFrame  \n",
    "\n",
    "# show the page\n",
    "IFrame('http://localhost:{0}'.format(port), width=1000, height=650)"
   ]
  }
 ],
 "metadata": {
  "kernelspec": {
   "display_name": "Python 3",
   "language": "python",
   "name": "python3"
  },
  "language_info": {
   "codemirror_mode": {
    "name": "ipython",
    "version": 3
   },
   "file_extension": ".py",
   "mimetype": "text/x-python",
   "name": "python",
   "nbconvert_exporter": "python",
   "pygments_lexer": "ipython3",
   "version": "3.5.3"
  }
 },
 "nbformat": 4,
 "nbformat_minor": 2
}
