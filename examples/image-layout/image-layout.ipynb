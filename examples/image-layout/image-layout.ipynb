{
 "cells": [
  {
   "cell_type": "code",
   "execution_count": 1,
   "metadata": {},
   "outputs": [],
   "source": [
    "%load_ext autoreload\n",
    "%autoreload 2\n",
    "\n",
    "import sys, warnings\n",
    "[sys.path.append(i) for i in ['.', '../../']]\n",
    "warnings.simplefilter('ignore')"
   ]
  },
  {
   "cell_type": "code",
   "execution_count": 2,
   "metadata": {},
   "outputs": [
    {
     "name": "stderr",
     "output_type": "stream",
     "text": [
      "Using TensorFlow backend.\n",
      "/Users/doug/anaconda/envs/3.5/lib/python3.5/site-packages/sklearn/externals/joblib/__init__.py:15: DeprecationWarning: sklearn.externals.joblib is deprecated in 0.21 and will be removed in 0.23. Please import this functionality directly from joblib, which can be installed with: pip install joblib. If this warning is raised when loading pickled models, you may need to re-serialize those models with scikit-learn 0.21+.\n",
      "  warnings.warn(msg, category=DeprecationWarning)\n"
     ]
    },
    {
     "name": "stdout",
     "output_type": "stream",
     "text": [
      " * preparing to parse 1 files:    \n",
      "    ulysses.txt\n",
      "   * completed 1 training epochs\n",
      "   * completed 2 training epochs\n",
      "   * completed 3 training epochs\n",
      "   * completed 4 training epochs\n",
      "   * completed 5 training epochs\n",
      "   * completed 6 training epochs\n",
      "   * completed 7 training epochs\n",
      "   * completed 8 training epochs\n",
      "   * completed 9 training epochs\n",
      "   * completed 10 training epochs\n",
      "   * completed 11 training epochs\n",
      "   * completed 12 training epochs\n",
      "   * completed 13 training epochs\n",
      "   * completed 14 training epochs\n",
      "   * completed 15 training epochs\n",
      "   * completed 16 training epochs\n",
      "   * completed 17 training epochs\n",
      "   * completed 18 training epochs\n",
      "   * completed 19 training epochs\n",
      "   * completed 20 training epochs\n",
      " * created model with 31555 words\n",
      " * computing img layout 1 of 1\n",
      " * loading layout from cache\n",
      " * writing json assets\n"
     ]
    }
   ],
   "source": [
    "import wordmap\n",
    "\n",
    "model = wordmap.Model({\n",
    "  'img_file': 'joyce.png', # svg paths converted to png files are ideal\n",
    "  'texts': ['ulysses.txt'], # list of texts to process\n",
    "  'layouts': ['img'], # list of desired layouts\n",
    "  'max_n': 100000, # number of words to include\n",
    "  'min_count': 1, # minimum number of times word must occur to be included in plot\n",
    "  'use_cache': True, # indicates whether to load models from cache if possible\n",
    "})"
   ]
  },
  {
   "cell_type": "code",
   "execution_count": 3,
   "metadata": {},
   "outputs": [
    {
     "name": "stdout",
     "output_type": "stream",
     "text": [
      " * serving assets from /Users/doug/Desktop/yale/webapps/wordmap/examples/image-layout/web\n"
     ]
    }
   ],
   "source": [
    "import threading, random\n",
    "\n",
    "# start server\n",
    "port = random.randint(2**10, 2**16)\n",
    "serve = lambda: wordmap.serve(port=port)\n",
    "threading.Thread(target=serve).start()"
   ]
  },
  {
   "cell_type": "code",
   "execution_count": null,
   "metadata": {},
   "outputs": [],
   "source": [
    "from IPython.display import IFrame  \n",
    "\n",
    "# show the page\n",
    "IFrame('http://localhost:{0}'.format(port), width=1000, height=650)"
   ]
  },
  {
   "cell_type": "markdown",
   "metadata": {},
   "source": [
    "<img src='preview.png' style='width:700px;'/>"
   ]
  }
 ],
 "metadata": {
  "kernelspec": {
   "display_name": "Python 3",
   "language": "python",
   "name": "python3"
  },
  "language_info": {
   "codemirror_mode": {
    "name": "ipython",
    "version": 3
   },
   "file_extension": ".py",
   "mimetype": "text/x-python",
   "name": "python",
   "nbconvert_exporter": "python",
   "pygments_lexer": "ipython3",
   "version": "3.5.3"
  }
 },
 "nbformat": 4,
 "nbformat_minor": 2
}
