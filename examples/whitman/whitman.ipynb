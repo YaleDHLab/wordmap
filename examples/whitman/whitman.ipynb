{
 "cells": [
  {
   "cell_type": "code",
   "execution_count": 1,
   "metadata": {},
   "outputs": [],
   "source": [
    "import re\n",
    "\n",
    "# get leaves of grass text\n",
    "with open('leaves-of-grass.txt') as f:\n",
    "  # remove punctuation and split into words\n",
    "  words = re.sub(r'[^\\w\\s]','',f.read()).split()"
   ]
  },
  {
   "cell_type": "code",
   "execution_count": 2,
   "metadata": {},
   "outputs": [
    {
     "name": "stdout",
     "output_type": "stream",
     "text": [
      " * preparing web assets\n",
      " * writing positional data\n"
     ]
    }
   ],
   "source": [
    "import wordmap\n",
    "import json\n",
    "import math\n",
    "\n",
    "# write the web assets to our present working directory\n",
    "wordmap.prepare_web_assets()\n",
    "\n",
    "# write some x,y positional data for the words\n",
    "root = int(len(words)**(1/2))\n",
    "\n",
    "# the outgoing data should have shape [[word, x, y], [word, x, y]]\n",
    "data = [[words[i], i%root, math.floor(i/root)] for i in range(len(words))]\n",
    "\n",
    "print(' * writing positional data')\n",
    "with open('web/wordmap-grid.json', 'w') as out:\n",
    "  json.dump(data, out)"
   ]
  },
  {
   "cell_type": "code",
   "execution_count": null,
   "metadata": {},
   "outputs": [],
   "source": [
    "# serve the results\n",
    "wordmap.serve()"
   ]
  }
 ],
 "metadata": {
  "kernelspec": {
   "display_name": "Python 3",
   "language": "python",
   "name": "python3"
  },
  "language_info": {
   "codemirror_mode": {
    "name": "ipython",
    "version": 3
   },
   "file_extension": ".py",
   "mimetype": "text/x-python",
   "name": "python",
   "nbconvert_exporter": "python",
   "pygments_lexer": "ipython3",
   "version": "3.5.3"
  }
 },
 "nbformat": 4,
 "nbformat_minor": 2
}
