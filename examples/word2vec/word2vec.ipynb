{
 "cells": [
  {
   "cell_type": "code",
   "execution_count": 1,
   "metadata": {},
   "outputs": [],
   "source": [
    "%load_ext autoreload\n",
    "%autoreload 2\n",
    "\n",
    "import sys, warnings\n",
    "[sys.path.append(i) for i in ['.', '../../']]\n",
    "warnings.simplefilter('ignore')"
   ]
  },
  {
   "cell_type": "code",
   "execution_count": 2,
   "metadata": {},
   "outputs": [],
   "source": [
    "# Download text files from early science articles\n",
    "import requests, os, tarfile\n",
    "\n",
    "# download the tarball from s3\n",
    "if not os.path.exists('philosophical-transactions.tar.gz'):\n",
    "  url = 'https://s3.amazonaws.com/lab-data-collections/philosophical-transactions.tar.gz'\n",
    "  r = requests.get(url, allow_redirects=True)\n",
    "  open('philosophical-transactions.tar.gz', 'wb').write(r.content)\n",
    "\n",
    "# unzip the texts archive\n",
    "if not os.path.exists('texts'):\n",
    "  tf = tarfile.open('philosophical-transactions.tar.gz')\n",
    "  tf.extractall()"
   ]
  },
  {
   "cell_type": "code",
   "execution_count": null,
   "metadata": {},
   "outputs": [],
   "source": [
    "import wordmap\n",
    "\n",
    "model = wordmap.Model({\n",
    "  'texts': 'texts/*.txt', # list of texts to use when building word2vec model\n",
    "  'iters': 100, # number of iterations to use when building word2vec model\n",
    "  'layouts': ['tsne', 'umap', 'img'], # list of desired layouts\n",
    "  'img_file': 'yale.png', # svg paths converted to png files are ideal\n",
    "  'umap_min_dist': [0.001, 0.01, 0.1], # layout-specific params lists\n",
    "  'umap_n_neighbors': [2, 5, 10, 20],\n",
    "  'tsne_perplexity': [2, 5, 10, 20], \n",
    "  'use_cache': True, # indicates whether to load models from cache if possible\n",
    "})"
   ]
  },
  {
   "cell_type": "code",
   "execution_count": null,
   "metadata": {},
   "outputs": [],
   "source": [
    "import threading, random\n",
    "\n",
    "# start server\n",
    "port = random.randint(2**10, 2**16)\n",
    "serve = lambda: wordmap.serve(port=port)\n",
    "threading.Thread(target=serve).start()"
   ]
  },
  {
   "cell_type": "markdown",
   "metadata": {},
   "source": [
    "<img src='preview.png' style='width:700px' />"
   ]
  }
 ],
 "metadata": {
  "kernelspec": {
   "display_name": "Python 3",
   "language": "python",
   "name": "python3"
  },
  "language_info": {
   "codemirror_mode": {
    "name": "ipython",
    "version": 3
   },
   "file_extension": ".py",
   "mimetype": "text/x-python",
   "name": "python",
   "nbconvert_exporter": "python",
   "pygments_lexer": "ipython3",
   "version": "3.5.3"
  }
 },
 "nbformat": 4,
 "nbformat_minor": 2
}
