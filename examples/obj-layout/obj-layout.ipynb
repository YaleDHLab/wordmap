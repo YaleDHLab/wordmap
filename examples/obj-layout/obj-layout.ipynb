{
 "cells": [
  {
   "cell_type": "code",
   "execution_count": 1,
   "metadata": {},
   "outputs": [],
   "source": [
    "import sys, warnings\n",
    "[sys.path.append(i) for i in ['.', '../../']]\n",
    "warnings.simplefilter('ignore')"
   ]
  },
  {
   "cell_type": "code",
   "execution_count": 2,
   "metadata": {},
   "outputs": [
    {
     "name": "stderr",
     "output_type": "stream",
     "text": [
      "Using TensorFlow backend.\n",
      "/Users/doug/anaconda/envs/3.5/lib/python3.5/site-packages/sklearn/externals/joblib/__init__.py:15: DeprecationWarning: sklearn.externals.joblib is deprecated in 0.21 and will be removed in 0.23. Please import this functionality directly from joblib, which can be installed with: pip install joblib. If this warning is raised when loading pickled models, you may need to re-serialize those models with scikit-learn 0.21+.\n",
      "  warnings.warn(msg, category=DeprecationWarning)\n"
     ]
    },
    {
     "name": "stdout",
     "output_type": "stream",
     "text": [
      " * limiting input string set to length 50000\n",
      " * computing obj layout 1 of 1\n",
      " * adding vertices\n",
      " * writing json assets\n"
     ]
    }
   ],
   "source": [
    "import wordmap\n",
    "\n",
    "# for free .obj 3D models, check out https://www.turbosquid.com/\n",
    "model = wordmap.Model({\n",
    "  'obj_file': 'whale.obj', # file with 3D geometry to show\n",
    "  'texts': ['moby-dick.txt'], # list of texts to process\n",
    "  'layouts': ['obj'], # list of desired layouts\n",
    "  'max_n': 50000, # number of words to include\n",
    "  'min_count': 1, # minimum number of times word must occur to be included in plot\n",
    "})"
   ]
  },
  {
   "cell_type": "code",
   "execution_count": 3,
   "metadata": {},
   "outputs": [
    {
     "name": "stdout",
     "output_type": "stream",
     "text": [
      " * serving assets from /Users/doug/Desktop/yale/webapps/wordmap/examples/moby-dick/web\n"
     ]
    }
   ],
   "source": [
    "import threading, random\n",
    "\n",
    "# start server\n",
    "port = random.randint(2**10, 2**16)\n",
    "serve = lambda: wordmap.serve(port=port)\n",
    "threading.Thread(target=serve).start()"
   ]
  },
  {
   "cell_type": "code",
   "execution_count": 5,
   "metadata": {},
   "outputs": [
    {
     "data": {
      "text/html": [
       "\n",
       "        <iframe\n",
       "            width=\"1000\"\n",
       "            height=\"650\"\n",
       "            src=\"http://localhost:51872\"\n",
       "            frameborder=\"0\"\n",
       "            allowfullscreen\n",
       "        ></iframe>\n",
       "        "
      ],
      "text/plain": [
       "<IPython.lib.display.IFrame at 0x12c74f048>"
      ]
     },
     "execution_count": 5,
     "metadata": {},
     "output_type": "execute_result"
    },
    {
     "name": "stderr",
     "output_type": "stream",
     "text": [
      "127.0.0.1 - - [27/Aug/2019 10:39:03] \"\u001b[37mGET / HTTP/1.1\u001b[0m\" 200 -\n"
     ]
    }
   ],
   "source": [
    "from IPython.display import IFrame  \n",
    "\n",
    "# show the page\n",
    "IFrame('http://localhost:{0}'.format(port), width=1000, height=650)"
   ]
  }
 ],
 "metadata": {
  "kernelspec": {
   "display_name": "Python 3",
   "language": "python",
   "name": "python3"
  },
  "language_info": {
   "codemirror_mode": {
    "name": "ipython",
    "version": 3
   },
   "file_extension": ".py",
   "mimetype": "text/x-python",
   "name": "python",
   "nbconvert_exporter": "python",
   "pygments_lexer": "ipython3",
   "version": "3.5.3"
  }
 },
 "nbformat": 4,
 "nbformat_minor": 2
}
